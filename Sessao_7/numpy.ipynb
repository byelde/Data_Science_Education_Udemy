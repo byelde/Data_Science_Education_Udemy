{
 "cells": [
  {
   "cell_type": "code",
   "execution_count": 2,
   "metadata": {},
   "outputs": [],
   "source": [
    "import numpy as np"
   ]
  },
  {
   "cell_type": "code",
   "execution_count": 2,
   "metadata": {},
   "outputs": [
    {
     "name": "stdout",
     "output_type": "stream",
     "text": [
      "[11 12 13 14 15]\n",
      "<class 'numpy.ndarray'>\n"
     ]
    }
   ],
   "source": [
    "# Criar uma matriz UNIdimensional\n",
    "matriz_unidimensional = np.array([11,12,13,14,15])\n",
    "print(matriz_unidimensional)\n",
    "print(type(matriz_unidimensional))"
   ]
  },
  {
   "cell_type": "code",
   "execution_count": 5,
   "metadata": {},
   "outputs": [
    {
     "name": "stdout",
     "output_type": "stream",
     "text": [
      "[11. 12. 13. 14. 15.]\n",
      "<class 'numpy.ndarray'>\n",
      "[11. 12. 13. 14. 15.]\n",
      "<class 'numpy.ndarray'>\n",
      "[11 12 13 14 15]\n",
      "<class 'numpy.ndarray'>\n"
     ]
    }
   ],
   "source": [
    "# Criar array com um tipo específico\n",
    "array_float64_1 = np.array([11,12,13,14,15], dtype=np.float64)\n",
    "print(array_float64_1)\n",
    "print(type(array_float64_1))\n",
    "# OU\n",
    "array_float64_2 = np.array([11.0,12.0,13.0,14.0,15.0])\n",
    "print(array_float64_2)\n",
    "print(type(array_float64_2))\n",
    "# E\n",
    "array_int32 = np.array([11,12,13,14,15], dtype=np.int32)\n",
    "print(array_int32)\n",
    "print(type(array_int32))"
   ]
  },
  {
   "cell_type": "code",
   "execution_count": 10,
   "metadata": {},
   "outputs": [
    {
     "name": "stdout",
     "output_type": "stream",
     "text": [
      "[11 12 13 14 15]\n",
      "<class 'numpy.ndarray'>\n",
      "[11. 12. 13. 14. 15.]\n",
      "<class 'numpy.ndarray'>\n",
      "[11.1 12.5 13.8 14.9 15.1]\n",
      "[11 12 13 14 15]\n"
     ]
    }
   ],
   "source": [
    "# MUDAR tipo de array\n",
    "array_mudado = np.array([11,12,13,14,15])\n",
    "print(array_mudado)\n",
    "print(type(array_mudado))\n",
    "\n",
    "array_mudado = array_mudado.astype(np.float64)\n",
    "print(array_mudado)\n",
    "print(type(array_mudado))\n",
    "\n",
    "# O inverso também\n",
    "array_mudado_2 = np.array([11.1, 12.5, 13.8, 14.9, 15.1])\n",
    "print(array_mudado_2)\n",
    "array_mudado_2 = array_mudado_2.astype(np.int32)\n",
    "print(array_mudado_2)"
   ]
  },
  {
   "cell_type": "code",
   "execution_count": 11,
   "metadata": {},
   "outputs": [
    {
     "name": "stdout",
     "output_type": "stream",
     "text": [
      "[[11 12]\n",
      " [13 14]\n",
      " [15 16]]\n"
     ]
    }
   ],
   "source": [
    "# Matriz MULTIdimensional\n",
    "\n",
    "# BIdimensional \n",
    "matriz_multidimensional = np.array([[11,12],[13,14],[15,16]])\n",
    "print(matriz_multidimensional)"
   ]
  },
  {
   "cell_type": "code",
   "execution_count": 20,
   "metadata": {},
   "outputs": [
    {
     "name": "stdout",
     "output_type": "stream",
     "text": [
      "[[        0         0 989700528]\n",
      " [    32760         1         0]\n",
      " [       -1        -1         0]]\n",
      "--------------------\n",
      "[[0 0 0]\n",
      " [0 0 0]\n",
      " [0 0 0]\n",
      " [0 0 0]]\n",
      "--------------------\n",
      "[[1. 1.]\n",
      " [1. 1.]\n",
      " [1. 1.]\n",
      " [1. 1.]\n",
      " [1. 1.]]\n",
      "--------------------\n",
      "[[1. 0. 0. 0. 0.]\n",
      " [0. 1. 0. 0. 0.]\n",
      " [0. 0. 1. 0. 0.]\n",
      " [0. 0. 0. 1. 0.]\n",
      " [0. 0. 0. 0. 1.]]\n"
     ]
    }
   ],
   "source": [
    "# Arrays vazios tipificados\n",
    "\n",
    "#emptys não inicializados\n",
    "vazio = np.empty([3,3], dtype=np.int32)\n",
    "print(vazio)\n",
    "\n",
    "print('-'*20)\n",
    "\n",
    "# Matriz de zeros\n",
    "zeros = np.zeros([4,3], dtype=np.int32)\n",
    "print(zeros)\n",
    "\n",
    "print('-'*20)\n",
    "\n",
    "# Matriz de uns\n",
    "ones = np.ones([5,2], dtype=np.float64)\n",
    "print(ones)\n",
    "\n",
    "print('-'*20)\n",
    "\n",
    "# Matriz de zeros com diagonal de uns\n",
    "diagonal = np.eye(5)\n",
    "print(diagonal)"
   ]
  },
  {
   "cell_type": "code",
   "execution_count": 6,
   "metadata": {},
   "outputs": [
    {
     "name": "stdout",
     "output_type": "stream",
     "text": [
      "[0.19725863 0.40513187 0.86680906 0.60736429 0.22537175]\n",
      "============================================================\n",
      "[ 1.26647679  0.17250189 -0.24478986 -0.54817565  0.96803586]\n",
      "============================================================\n",
      "[[5.91243855 5.33185179 2.53126208 7.68864922]\n",
      " [6.74672905 3.18168864 8.87846109 7.18743531]\n",
      " [5.68025488 2.68530881 3.29466376 0.8414333 ]]\n"
     ]
    }
   ],
   "source": [
    "# Valores aleatórios ENTRE 0 E 1.\n",
    "aleatorio = np.random.random((5))\n",
    "print(aleatorio)\n",
    "\n",
    "print('='*60)\n",
    "\n",
    "# Valores aleatórios em distribuição nomral contendo negativos\n",
    "aleatorio_2 = np.random.randn((5))\n",
    "print(aleatorio_2)\n",
    "\n",
    "print('='*60)\n",
    "\n",
    "# valores aletórios 3x4\n",
    "aleatorio_3 = 10*(np.random.random((3,4)))\n",
    "print(aleatorio_3)"
   ]
  },
  {
   "cell_type": "code",
   "execution_count": 38,
   "metadata": {},
   "outputs": [
    {
     "name": "stdout",
     "output_type": "stream",
     "text": [
      "[0.94305611 0.51132755 0.97624371]\n",
      "\n",
      "\n",
      "SUDOKU\n",
      "[[9 0 4 6 2 3 6 8 5]\n",
      " [1 6 8 2 5 3 9 0 4]\n",
      " [8 4 1 7 9 9 9 3 7]\n",
      " [9 5 9 5 1 4 6 3 7]\n",
      " [4 9 2 6 0 1 5 4 4]\n",
      " [4 8 5 3 9 8 3 2 2]\n",
      " [1 5 5 6 8 9 5 5 0]\n",
      " [2 9 9 0 4 4 6 1 4]\n",
      " [3 2 8 6 1 7 5 1 6]]\n"
     ]
    }
   ],
   "source": [
    "# Outras formas de gerar valores:\n",
    "\n",
    "# SEMENTES\n",
    "seed = np.random.default_rng(4)\n",
    "aleatorio_5 = seed.random(3)\n",
    "print(aleatorio_5)\n",
    "\n",
    "# gerar inteiros\n",
    "print(\"\\n\\nSUDOKU\")\n",
    "aleatorio_6 = seed.integers(10, size=(9,9))\n",
    "print(aleatorio_6)\n"
   ]
  },
  {
   "cell_type": "code",
   "execution_count": 40,
   "metadata": {},
   "outputs": [
    {
     "name": "stdout",
     "output_type": "stream",
     "text": [
      "[11 12 13 12 14 15 13 15 16 11]\n",
      "[11 12 13 14 15 16]\n"
     ]
    }
   ],
   "source": [
    "# Remover repetições\n",
    "\n",
    "z = np.array([11,12,13,12,14,15,13,15,16,11])\n",
    "print(z)\n",
    "\n",
    "z = np.unique(z)\n",
    "print(z)"
   ]
  },
  {
   "cell_type": "code",
   "execution_count": 43,
   "metadata": {},
   "outputs": [
    {
     "name": "stdout",
     "output_type": "stream",
     "text": [
      "[[11 12 13]\n",
      " [14 15 16]\n",
      " [17 18 19]]\n",
      "17\n",
      "(3, 3)\n"
     ]
    }
   ],
   "source": [
    "# Funcões específicas\n",
    "\n",
    "# Gerar matriz BIdimensional\n",
    "k = np.array([[11,12,13],[14,15,16],[17,18,19]])\n",
    "print(k)\n",
    "\n",
    "# Mostrar elementos específicos\n",
    "print(k[2][0])\n",
    "\n",
    "# Mostrar tamanho:\n",
    "print(k.shape)"
   ]
  },
  {
   "cell_type": "code",
   "execution_count": 44,
   "metadata": {},
   "outputs": [
    {
     "name": "stdout",
     "output_type": "stream",
     "text": [
      "19\n",
      "11\n",
      "15.0\n",
      "135\n",
      "2.581988897471611\n"
     ]
    }
   ],
   "source": [
    "# Funções matemáticas\n",
    "\n",
    "print(k.max()) # Valor máximo\n",
    "print(k.min()) # Valor mínimo\n",
    "print(k.mean()) # Média\n",
    "print(k.sum()) # Soma dos valores\n",
    "print(k.std()) # Desvio padrão dos valores\n"
   ]
  },
  {
   "cell_type": "code",
   "execution_count": 50,
   "metadata": {},
   "outputs": [
    {
     "name": "stdout",
     "output_type": "stream",
     "text": [
      "[ 1  4  9 16 25 36 49]\n",
      "[1. 2. 3. 4. 5. 6. 7.]\n",
      "============================================================\n",
      "[1 2 3 4 5 6]\n",
      "[  2.71828183   7.3890561   20.08553692  54.59815003 148.4131591\n",
      " 403.42879349]\n"
     ]
    }
   ],
   "source": [
    "# Funções universais, aplicadas  a todos os elementos\n",
    "\n",
    "# Raiz qudrada\n",
    "q = np.array([1,4,9,16,25,36,49])\n",
    "print(q)\n",
    "q = np.sqrt(q)\n",
    "print(q)\n",
    "\n",
    "print('='*60)\n",
    "# Valor exponencial:\n",
    "e = np.array([1,2,3,4,5,6])\n",
    "print(e)\n",
    "e = np.exp(e)\n",
    "print(e)"
   ]
  },
  {
   "cell_type": "code",
   "execution_count": 7,
   "metadata": {},
   "outputs": [
    {
     "name": "stdout",
     "output_type": "stream",
     "text": [
      "3\n",
      "[1 2]\n",
      "[3 4 5 6 7 8 9]\n",
      "[7 8 9]\n"
     ]
    }
   ],
   "source": [
    "# extração de elementos\n",
    "\n",
    "extracao = np.array([1,2,3,4,5,6,7,8,9])\n",
    "\n",
    "# Extrair elemento na posiçao 2\n",
    "print(extracao[2])\n",
    "\n",
    "# Extrair do elemento 0 ao 2\n",
    "print(extracao[0:2])\n",
    "\n",
    "# Extrair elementos a partir da posição 2\n",
    "print(extracao[2:])\n",
    "\n",
    "# Extrair valor da -3ª posição até a última\n",
    "print(extracao[-3:])"
   ]
  },
  {
   "cell_type": "code",
   "execution_count": 12,
   "metadata": {},
   "outputs": [
    {
     "name": "stdout",
     "output_type": "stream",
     "text": [
      "[11 12 13]\n",
      "[14 15 16]\n",
      "[17 18 19]\n",
      "[11 14 17]\n",
      "[12 15 18]\n",
      "[13 16 19]\n"
     ]
    }
   ],
   "source": [
    "# Extração de linhas e colunas\n",
    "\n",
    "extracao_2 = np.array([[11,12,13],[14,15,16],[17,18,19]])\n",
    "\n",
    "# Primeira linhas, todas as colunas\n",
    "print(extracao_2[0, :])\n",
    "\n",
    "# Segunda linha\n",
    "print(extracao_2[1, :])\n",
    "\n",
    "# Terceira linha\n",
    "print(extracao_2[2])\n",
    "\n",
    "# Todas as linhas, primeira coluna\n",
    "print(extracao_2[:, 0])\n",
    "\n",
    "# Todas as linhas, segunda coluna\n",
    "print(extracao_2[:,1])\n",
    "\n",
    "# Todas as linhas, terceira coluna\n",
    "print(extracao_2[:,2])"
   ]
  },
  {
   "cell_type": "code",
   "execution_count": 17,
   "metadata": {},
   "outputs": [
    {
     "name": "stdout",
     "output_type": "stream",
     "text": [
      "[[2 4]\n",
      " [6 8]]\n",
      "====================\n",
      "[[ 1  4]\n",
      " [ 9 16]]\n"
     ]
    }
   ],
   "source": [
    "# Adição e multiplicação de matrizes\n",
    "\n",
    "a = np.array([[1,2],[3,4]])\n",
    "b = np.array([[1,2],[3,4]])\n",
    "\n",
    "# Adição\n",
    "print(a+b)\n",
    "\n",
    "print('='*20)\n",
    "# Multiplicação\n",
    "print(a*b)"
   ]
  },
  {
   "cell_type": "code",
   "execution_count": 32,
   "metadata": {},
   "outputs": [
    {
     "name": "stdout",
     "output_type": "stream",
     "text": [
      "[ 0  1  2  3  4  5  6  7  8  9 10 11 12 13 14]\n",
      "============================================================\n",
      "[[ 0  1  2  3  4]\n",
      " [ 5  6  7  8  9]\n",
      " [10 11 12 13 14]]\n",
      "============================================================\n",
      "[[ 0  5 10]\n",
      " [ 1  6 11]\n",
      " [ 2  7 12]\n",
      " [ 3  8 13]\n",
      " [ 4  9 14]]\n",
      "OU\n",
      "[[ 0  5 10]\n",
      " [ 1  6 11]\n",
      " [ 2  7 12]\n",
      " [ 3  8 13]\n",
      " [ 4  9 14]]\n"
     ]
    }
   ],
   "source": [
    "# Transposição e rearranjo\n",
    "\n",
    "f = np.arange(15)\n",
    "print(f)\n",
    "print('='*60)\n",
    "\n",
    "# Rearranjo\n",
    "f = f.reshape((3,5))\n",
    "print(f)\n",
    "print('='*60)\n",
    "\n",
    "# Transposição\n",
    "f2= f.T\n",
    "print(f2)\n",
    "# OU\n",
    "print('OU')\n",
    "f2 = f.transpose((1,0))\n",
    "print(f2)"
   ]
  },
  {
   "cell_type": "code",
   "execution_count": 35,
   "metadata": {},
   "outputs": [
    {
     "name": "stdout",
     "output_type": "stream",
     "text": [
      "[[ 0  1  2  3  4]\n",
      " [ 5  6  7  8  9]\n",
      " [10 11 12 13 14]]\n",
      "============================================================\n",
      "[[False False False False False]\n",
      " [False False False False False]\n",
      " [False  True  True  True  True]]\n",
      "============================================================\n",
      "[[-1 -1 -1 -1 -1]\n",
      " [-1 -1 -1 -1 -1]\n",
      " [-1  1  1  1  1]]\n"
     ]
    }
   ],
   "source": [
    "# Expressões lógicas\n",
    "\n",
    "# Usando where\n",
    "g = np.arange(15).reshape((3,5)) # Criando matriz\n",
    "print(g)\n",
    "print('='*60)\n",
    "\n",
    "g1 = (g > 10) # Posições maiores que 10\n",
    "print(g1)\n",
    "print('='*60)\n",
    "\n",
    "g2 = np.where(g>10, 1, -1)\n",
    "print(g2)"
   ]
  }
 ],
 "metadata": {
  "kernelspec": {
   "display_name": "Python 3",
   "language": "python",
   "name": "python3"
  },
  "language_info": {
   "codemirror_mode": {
    "name": "ipython",
    "version": 3
   },
   "file_extension": ".py",
   "mimetype": "text/x-python",
   "name": "python",
   "nbconvert_exporter": "python",
   "pygments_lexer": "ipython3",
   "version": "3.11.5"
  },
  "orig_nbformat": 4
 },
 "nbformat": 4,
 "nbformat_minor": 2
}
