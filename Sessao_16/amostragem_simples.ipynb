{
 "cells": [
  {
   "cell_type": "markdown",
   "metadata": {},
   "source": [
    "# AMOSTRAGEM SIMPLES\n",
    "### Todos os elementos tem as mesmas chances de serem selecionados com/sem reposição"
   ]
  },
  {
   "cell_type": "code",
   "execution_count": 147,
   "metadata": {},
   "outputs": [],
   "source": [
    "import pandas as pd\n",
    "import numpy as np"
   ]
  },
  {
   "cell_type": "code",
   "execution_count": null,
   "metadata": {},
   "outputs": [],
   "source": [
    "iris_db = pd.read_csv('dados/iris.csv')\n",
    "iris_db.head(7)"
   ]
  },
  {
   "cell_type": "markdown",
   "metadata": {},
   "source": [
    "## Objetivo: selecionar cerca de 30% dos elementos para a amostra"
   ]
  },
  {
   "cell_type": "code",
   "execution_count": null,
   "metadata": {},
   "outputs": [],
   "source": [
    "# a : opções a serem aleatoriamente escolhidas [0 e 1]\n",
    "# size : tamanho da base de dados\n",
    "# replace : reposição\n",
    "# p : probabilidade de um elemento receber cada uma das opções\n",
    "\n",
    "amostra = np.random.choice(a = [0,1], size=150,\n",
    "                           replace=True, p=[0.7, 0.3])\n",
    "\n",
    "# Nesse caso, 1 representará os selecionados\n",
    "\n",
    "print(f'SELECTED: {len(amostra[amostra == 1])}/150 = {(len(amostra[amostra == 1])/150)*100:.2f}%' )\n",
    "print(f'NOT selected: {len(amostra[amostra == 0])}/150 = {(len(amostra[amostra == 0])/150)*100:.2f}%' )"
   ]
  },
  {
   "cell_type": "code",
   "execution_count": null,
   "metadata": {},
   "outputs": [],
   "source": [
    "iris_db_final = iris_db.loc[amostra == 1]\n",
    "print(iris_db_final.shape)\n",
    "display(iris_db_final['class'].value_counts())\n",
    "display(iris_db_final)"
   ]
  }
 ],
 "metadata": {
  "kernelspec": {
   "display_name": "Python 3",
   "language": "python",
   "name": "python3"
  },
  "language_info": {
   "codemirror_mode": {
    "name": "ipython",
    "version": 3
   },
   "file_extension": ".py",
   "mimetype": "text/x-python",
   "name": "python",
   "nbconvert_exporter": "python",
   "pygments_lexer": "ipython3",
   "version": "3.11.7"
  }
 },
 "nbformat": 4,
 "nbformat_minor": 2
}
