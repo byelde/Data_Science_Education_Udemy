{
 "cells": [
  {
   "cell_type": "markdown",
   "metadata": {},
   "source": [
    "# Amostragem Sistemática\n",
    "### Subconjunto de uma população, cujo0s elementos são escolhidos a partir do valor de posição nI, de i em i\n",
    "#### Nesse exeplo: de \"qntde_ele_pop\" foram escolhidos \"qntde_ele_amo\" de \"i\" em \"i\" começando por \"nI\""
   ]
  },
  {
   "cell_type": "code",
   "execution_count": 101,
   "metadata": {},
   "outputs": [],
   "source": [
    "import pandas as pd\n",
    "import numpy as np\n",
    "from math import ceil"
   ]
  },
  {
   "cell_type": "code",
   "execution_count": 102,
   "metadata": {},
   "outputs": [
    {
     "data": {
      "text/plain": [
       "(150, 5)"
      ]
     },
     "metadata": {},
     "output_type": "display_data"
    }
   ],
   "source": [
    "db = pd.read_csv('dados/iris.csv')\n",
    "display(db.shape)"
   ]
  },
  {
   "cell_type": "code",
   "execution_count": 103,
   "metadata": {},
   "outputs": [
    {
     "data": {
      "text/plain": [
       "150"
      ]
     },
     "metadata": {},
     "output_type": "display_data"
    },
    {
     "data": {
      "text/plain": [
       "30"
      ]
     },
     "metadata": {},
     "output_type": "display_data"
    },
    {
     "data": {
      "text/plain": [
       "5"
      ]
     },
     "metadata": {},
     "output_type": "display_data"
    }
   ],
   "source": [
    "# Definições:\n",
    "\n",
    "qntde_ele_pop = db.shape[0]\n",
    "qntde_ele_amo = 30\n",
    "i = ceil(150/30) # Ceil: Arredonda para o primeiro inteiro acima\n",
    "\n",
    "display(qntde_ele_pop, qntde_ele_amo, i)"
   ]
  },
  {
   "cell_type": "code",
   "execution_count": 104,
   "metadata": {},
   "outputs": [
    {
     "data": {
      "text/plain": [
       "4"
      ]
     },
     "execution_count": 104,
     "metadata": {},
     "output_type": "execute_result"
    }
   ],
   "source": [
    "# Gerar número inicial aleatório\n",
    "\n",
    "# Esse número deve estar entre as posições 1 - k\n",
    "nI = np.random.randint(low=1, high=i+1, size=1) # Gera uma lista\n",
    "print(nI[0])"
   ]
  },
  {
   "cell_type": "code",
   "execution_count": 105,
   "metadata": {},
   "outputs": [
    {
     "name": "stdout",
     "output_type": "stream",
     "text": [
      "[4, 9, 14, 19, 24, 29, 34, 39, 44, 49, 54, 59, 64, 69, 74, 79, 84, 89, 94, 99, 104, 109, 114, 119, 124, 129, 134, 139, 144, 149]\n"
     ]
    }
   ],
   "source": [
    "escolhidos = []\n",
    "c = nI[0]\n",
    "for j in range(qntde_ele_amo):\n",
    "    escolhidos.append(c)\n",
    "    c += i\n",
    "print(escolhidos)"
   ]
  },
  {
   "cell_type": "code",
   "execution_count": 106,
   "metadata": {},
   "outputs": [
    {
     "data": {
      "text/plain": [
       "(30, 5)"
      ]
     },
     "execution_count": 106,
     "metadata": {},
     "output_type": "execute_result"
    }
   ],
   "source": [
    "a_sistematica = db.loc[escolhidos]\n",
    "# display(a_estratificada)\n",
    "display(a_sistematica.shape)"
   ]
  }
 ],
 "metadata": {
  "kernelspec": {
   "display_name": "Python 3",
   "language": "python",
   "name": "python3"
  },
  "language_info": {
   "codemirror_mode": {
    "name": "ipython",
    "version": 3
   },
   "file_extension": ".py",
   "mimetype": "text/x-python",
   "name": "python",
   "nbconvert_exporter": "python",
   "pygments_lexer": "ipython3",
   "version": "3.11.5"
  },
  "orig_nbformat": 4
 },
 "nbformat": 4,
 "nbformat_minor": 2
}
