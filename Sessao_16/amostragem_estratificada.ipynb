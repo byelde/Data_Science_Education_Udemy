{
 "cells": [
  {
   "cell_type": "markdown",
   "metadata": {},
   "source": [
    "## Amostra estratificada\n",
    "### Separa a população em estratos e busca representa-los de forma equivalente"
   ]
  },
  {
   "cell_type": "code",
   "execution_count": 57,
   "metadata": {},
   "outputs": [],
   "source": [
    "import pandas as pd\n",
    "from sklearn.model_selection import train_test_split as tts"
   ]
  },
  {
   "cell_type": "code",
   "execution_count": null,
   "metadata": {},
   "outputs": [],
   "source": [
    "iris_db = pd.read_csv(\"dados/iris.csv\");\n",
    "display(iris_db);\n",
    "iris_db['class'].value_counts()"
   ]
  },
  {
   "cell_type": "markdown",
   "metadata": {},
   "source": [
    "### Objetivo: escolher 50% de cada extrato"
   ]
  },
  {
   "cell_type": "code",
   "execution_count": null,
   "metadata": {},
   "outputs": [],
   "source": [
    "# iris_db.iloc[:, 0:4] : dados que acompanham a classe selecionada, fica salvo em x\n",
    "# iris_db.iloc[:, 4] : coluna com as categorias(classes) escolhidas, fica salvo em y\n",
    "# test_size : porcentagem de quantos elementos vão ser selecionados\n",
    "# Stratify : retorna amostra estratificada baseada nas classes daquela coluna\n",
    "\n",
    "x, _, y, _ = tts(iris_db.iloc[:, 0:4],\n",
    "                 iris_db.iloc[:, 4],\n",
    "                 test_size=0.5,\n",
    "                 stratify=iris_db.iloc[:,4]);\n",
    "\n",
    "# display(y); # <-- IMPORTANTE\n",
    "# display(x); # <-- IMPORTANTE\n",
    "x['extra'] = y\n",
    "display(x);"
   ]
  },
  {
   "cell_type": "markdown",
   "metadata": {},
   "source": [
    "### Objetivo: escolher 40% de cada extrato"
   ]
  },
  {
   "cell_type": "code",
   "execution_count": null,
   "metadata": {},
   "outputs": [],
   "source": [
    "infert_db = pd.read_csv('dados/infert.csv');\n",
    "display(infert_db);\n",
    "display(infert_db['education'].value_counts())"
   ]
  },
  {
   "cell_type": "code",
   "execution_count": null,
   "metadata": {},
   "outputs": [],
   "source": [
    "# infert_db.iloc[:, 2:9] : dados que acompanham a classe selecionada, fica salvo em x\n",
    "# infert_db[:, 1] : coluna com as categorias(classes) escolhidas, fica salvo em y\n",
    "# test_size : porcentagem de seleção\n",
    "# stratify : retorna amostra estratificada baseada nas classes daquela coluna\n",
    "\n",
    "x2, _, y2, _ = tts(infert_db.iloc[:, 2:9],\n",
    "                   infert_db.iloc[:, 1],\n",
    "                   test_size=0.6, # retorna 40% e NÃO 60%\n",
    "                   stratify=infert_db.iloc[:, 1]);\n",
    "\n",
    "# display(x2);\n",
    "# display(y2);\n",
    "x2['extra'] = y2;\n",
    "display(x2);\n",
    "display(y2.value_counts());\n"
   ]
  }
 ],
 "metadata": {
  "kernelspec": {
   "display_name": "Python 3",
   "language": "python",
   "name": "python3"
  },
  "language_info": {
   "codemirror_mode": {
    "name": "ipython",
    "version": 3
   },
   "file_extension": ".py",
   "mimetype": "text/x-python",
   "name": "python",
   "nbconvert_exporter": "python",
   "pygments_lexer": "ipython3",
   "version": "3.11.7"
  }
 },
 "nbformat": 4,
 "nbformat_minor": 2
}
